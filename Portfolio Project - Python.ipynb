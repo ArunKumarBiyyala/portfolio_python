{
 "cells": [
  {
   "cell_type": "code",
   "execution_count": 1,
   "id": "8f56f757",
   "metadata": {},
   "outputs": [],
   "source": [
    "####Importing required Libraries####\n",
    "import pandas as pd\n",
    "import numpy as np\n",
    "import seaborn as sns\n",
    "import matplotlib.pyplot as plt\n",
    "%matplotlib inline"
   ]
  },
  {
   "cell_type": "code",
   "execution_count": 2,
   "id": "fb0613c3",
   "metadata": {},
   "outputs": [],
   "source": [
    "df=pd.read_csv(r'C:\\Users\\Arun kumar Biyyala\\Desktop\\movies.csv')"
   ]
  },
  {
   "cell_type": "code",
   "execution_count": 3,
   "id": "a68b7feb",
   "metadata": {},
   "outputs": [
    {
     "data": {
      "text/html": [
       "<div>\n",
       "<style scoped>\n",
       "    .dataframe tbody tr th:only-of-type {\n",
       "        vertical-align: middle;\n",
       "    }\n",
       "\n",
       "    .dataframe tbody tr th {\n",
       "        vertical-align: top;\n",
       "    }\n",
       "\n",
       "    .dataframe thead th {\n",
       "        text-align: right;\n",
       "    }\n",
       "</style>\n",
       "<table border=\"1\" class=\"dataframe\">\n",
       "  <thead>\n",
       "    <tr style=\"text-align: right;\">\n",
       "      <th></th>\n",
       "      <th>name</th>\n",
       "      <th>rating</th>\n",
       "      <th>genre</th>\n",
       "      <th>year</th>\n",
       "      <th>released</th>\n",
       "      <th>score</th>\n",
       "      <th>votes</th>\n",
       "      <th>director</th>\n",
       "      <th>writer</th>\n",
       "      <th>star</th>\n",
       "      <th>country</th>\n",
       "      <th>budget</th>\n",
       "      <th>gross</th>\n",
       "      <th>company</th>\n",
       "      <th>runtime</th>\n",
       "    </tr>\n",
       "  </thead>\n",
       "  <tbody>\n",
       "    <tr>\n",
       "      <th>7661</th>\n",
       "      <td>Love by Drowning</td>\n",
       "      <td>R</td>\n",
       "      <td>Drama</td>\n",
       "      <td>2020</td>\n",
       "      <td>November 6, 2020 (United States)</td>\n",
       "      <td>NaN</td>\n",
       "      <td>NaN</td>\n",
       "      <td>Justin Kreinbrink</td>\n",
       "      <td>C.E. Poverman</td>\n",
       "      <td>Nicky Whelan</td>\n",
       "      <td>United States</td>\n",
       "      <td>1000000.0</td>\n",
       "      <td>NaN</td>\n",
       "      <td>Dow Jazz Films</td>\n",
       "      <td>121.0</td>\n",
       "    </tr>\n",
       "    <tr>\n",
       "      <th>7662</th>\n",
       "      <td>The Robinsons</td>\n",
       "      <td>NaN</td>\n",
       "      <td>Action</td>\n",
       "      <td>2020</td>\n",
       "      <td>November 10, 2020 (United States)</td>\n",
       "      <td>NaN</td>\n",
       "      <td>NaN</td>\n",
       "      <td>Directors</td>\n",
       "      <td>Aleks Alifirenko Jr.</td>\n",
       "      <td>Billy Hartmann</td>\n",
       "      <td>United States</td>\n",
       "      <td>10000.0</td>\n",
       "      <td>NaN</td>\n",
       "      <td>NaN</td>\n",
       "      <td>90.0</td>\n",
       "    </tr>\n",
       "    <tr>\n",
       "      <th>7663</th>\n",
       "      <td>More to Life</td>\n",
       "      <td>NaN</td>\n",
       "      <td>Drama</td>\n",
       "      <td>2020</td>\n",
       "      <td>October 23, 2020 (United States)</td>\n",
       "      <td>3.1</td>\n",
       "      <td>18.0</td>\n",
       "      <td>Joseph Ebanks</td>\n",
       "      <td>Joseph Ebanks</td>\n",
       "      <td>Shannon Bond</td>\n",
       "      <td>United States</td>\n",
       "      <td>7000.0</td>\n",
       "      <td>NaN</td>\n",
       "      <td>NaN</td>\n",
       "      <td>90.0</td>\n",
       "    </tr>\n",
       "    <tr>\n",
       "      <th>7664</th>\n",
       "      <td>Dream Round</td>\n",
       "      <td>NaN</td>\n",
       "      <td>Comedy</td>\n",
       "      <td>2020</td>\n",
       "      <td>February 7, 2020 (United States)</td>\n",
       "      <td>4.7</td>\n",
       "      <td>36.0</td>\n",
       "      <td>Dusty Dukatz</td>\n",
       "      <td>Lisa Huston</td>\n",
       "      <td>Michael Saquella</td>\n",
       "      <td>United States</td>\n",
       "      <td>NaN</td>\n",
       "      <td>NaN</td>\n",
       "      <td>Cactus Blue Entertainment</td>\n",
       "      <td>90.0</td>\n",
       "    </tr>\n",
       "    <tr>\n",
       "      <th>7665</th>\n",
       "      <td>Saving Mbango</td>\n",
       "      <td>NaN</td>\n",
       "      <td>Drama</td>\n",
       "      <td>2020</td>\n",
       "      <td>April 27, 2020 (Cameroon)</td>\n",
       "      <td>5.7</td>\n",
       "      <td>29.0</td>\n",
       "      <td>Nkanya Nkwai</td>\n",
       "      <td>Lynno Lovert</td>\n",
       "      <td>Onyama Laura</td>\n",
       "      <td>United States</td>\n",
       "      <td>58750.0</td>\n",
       "      <td>NaN</td>\n",
       "      <td>Embi Productions</td>\n",
       "      <td>NaN</td>\n",
       "    </tr>\n",
       "    <tr>\n",
       "      <th>7666</th>\n",
       "      <td>It's Just Us</td>\n",
       "      <td>NaN</td>\n",
       "      <td>Drama</td>\n",
       "      <td>2020</td>\n",
       "      <td>October 1, 2020 (United States)</td>\n",
       "      <td>NaN</td>\n",
       "      <td>NaN</td>\n",
       "      <td>James Randall</td>\n",
       "      <td>James Randall</td>\n",
       "      <td>Christina Roz</td>\n",
       "      <td>United States</td>\n",
       "      <td>15000.0</td>\n",
       "      <td>NaN</td>\n",
       "      <td>NaN</td>\n",
       "      <td>120.0</td>\n",
       "    </tr>\n",
       "    <tr>\n",
       "      <th>7667</th>\n",
       "      <td>Tee em el</td>\n",
       "      <td>NaN</td>\n",
       "      <td>Horror</td>\n",
       "      <td>2020</td>\n",
       "      <td>August 19, 2020 (United States)</td>\n",
       "      <td>5.7</td>\n",
       "      <td>7.0</td>\n",
       "      <td>Pereko Mosia</td>\n",
       "      <td>Pereko Mosia</td>\n",
       "      <td>Siyabonga Mabaso</td>\n",
       "      <td>South Africa</td>\n",
       "      <td>NaN</td>\n",
       "      <td>NaN</td>\n",
       "      <td>PK 65 Films</td>\n",
       "      <td>102.0</td>\n",
       "    </tr>\n",
       "  </tbody>\n",
       "</table>\n",
       "</div>"
      ],
      "text/plain": [
       "                  name rating   genre  year  \\\n",
       "7661  Love by Drowning      R   Drama  2020   \n",
       "7662     The Robinsons    NaN  Action  2020   \n",
       "7663      More to Life    NaN   Drama  2020   \n",
       "7664       Dream Round    NaN  Comedy  2020   \n",
       "7665     Saving Mbango    NaN   Drama  2020   \n",
       "7666      It's Just Us    NaN   Drama  2020   \n",
       "7667         Tee em el    NaN  Horror  2020   \n",
       "\n",
       "                               released  score  votes           director  \\\n",
       "7661   November 6, 2020 (United States)    NaN    NaN  Justin Kreinbrink   \n",
       "7662  November 10, 2020 (United States)    NaN    NaN          Directors   \n",
       "7663   October 23, 2020 (United States)    3.1   18.0      Joseph Ebanks   \n",
       "7664   February 7, 2020 (United States)    4.7   36.0       Dusty Dukatz   \n",
       "7665          April 27, 2020 (Cameroon)    5.7   29.0       Nkanya Nkwai   \n",
       "7666    October 1, 2020 (United States)    NaN    NaN      James Randall   \n",
       "7667    August 19, 2020 (United States)    5.7    7.0       Pereko Mosia   \n",
       "\n",
       "                    writer              star        country     budget  gross  \\\n",
       "7661         C.E. Poverman      Nicky Whelan  United States  1000000.0    NaN   \n",
       "7662  Aleks Alifirenko Jr.    Billy Hartmann  United States    10000.0    NaN   \n",
       "7663         Joseph Ebanks      Shannon Bond  United States     7000.0    NaN   \n",
       "7664           Lisa Huston  Michael Saquella  United States        NaN    NaN   \n",
       "7665          Lynno Lovert      Onyama Laura  United States    58750.0    NaN   \n",
       "7666         James Randall     Christina Roz  United States    15000.0    NaN   \n",
       "7667          Pereko Mosia  Siyabonga Mabaso   South Africa        NaN    NaN   \n",
       "\n",
       "                        company  runtime  \n",
       "7661             Dow Jazz Films    121.0  \n",
       "7662                        NaN     90.0  \n",
       "7663                        NaN     90.0  \n",
       "7664  Cactus Blue Entertainment     90.0  \n",
       "7665           Embi Productions      NaN  \n",
       "7666                        NaN    120.0  \n",
       "7667                PK 65 Films    102.0  "
      ]
     },
     "execution_count": 3,
     "metadata": {},
     "output_type": "execute_result"
    }
   ],
   "source": [
    "df.tail(7)"
   ]
  },
  {
   "cell_type": "code",
   "execution_count": 4,
   "id": "555a00fa",
   "metadata": {},
   "outputs": [
    {
     "data": {
      "text/plain": [
       "name           0\n",
       "rating        77\n",
       "genre          0\n",
       "year           0\n",
       "released       2\n",
       "score          3\n",
       "votes          3\n",
       "director       0\n",
       "writer         3\n",
       "star           1\n",
       "country        3\n",
       "budget      2171\n",
       "gross        189\n",
       "company       17\n",
       "runtime        4\n",
       "dtype: int64"
      ]
     },
     "execution_count": 4,
     "metadata": {},
     "output_type": "execute_result"
    }
   ],
   "source": [
    "#finding out any null values present in dataset\n",
    "df.isnull().sum()"
   ]
  },
  {
   "cell_type": "code",
   "execution_count": 5,
   "id": "61f47be7",
   "metadata": {},
   "outputs": [
    {
     "name": "stdout",
     "output_type": "stream",
     "text": [
      "name-0.0%\n",
      "rating-0.010041731872717789%\n",
      "genre-0.0%\n",
      "year-0.0%\n",
      "released-0.0002608242044861763%\n",
      "score-0.0003912363067292645%\n",
      "votes-0.0003912363067292645%\n",
      "director-0.0%\n",
      "writer-0.0003912363067292645%\n",
      "star-0.00013041210224308815%\n",
      "country-0.0003912363067292645%\n",
      "budget-0.2831246739697444%\n",
      "gross-0.02464788732394366%\n",
      "company-0.002217005738132499%\n",
      "runtime-0.0005216484089723526%\n"
     ]
    }
   ],
   "source": [
    "#finding out any null values present in dataset(other method)\n",
    "for col in df.columns:\n",
    "    pct_missing=np.mean(df[col].isnull())\n",
    "    print('{}-{}%'.format(col,pct_missing))"
   ]
  },
  {
   "cell_type": "code",
   "execution_count": 82,
   "id": "ba0bd838",
   "metadata": {},
   "outputs": [
    {
     "data": {
      "text/html": [
       "<div>\n",
       "<style scoped>\n",
       "    .dataframe tbody tr th:only-of-type {\n",
       "        vertical-align: middle;\n",
       "    }\n",
       "\n",
       "    .dataframe tbody tr th {\n",
       "        vertical-align: top;\n",
       "    }\n",
       "\n",
       "    .dataframe thead th {\n",
       "        text-align: right;\n",
       "    }\n",
       "</style>\n",
       "<table border=\"1\" class=\"dataframe\">\n",
       "  <thead>\n",
       "    <tr style=\"text-align: right;\">\n",
       "      <th></th>\n",
       "      <th>name</th>\n",
       "      <th>rating</th>\n",
       "      <th>genre</th>\n",
       "      <th>year</th>\n",
       "      <th>released</th>\n",
       "      <th>score</th>\n",
       "      <th>votes</th>\n",
       "      <th>director</th>\n",
       "      <th>writer</th>\n",
       "      <th>star</th>\n",
       "      <th>country</th>\n",
       "      <th>budget</th>\n",
       "      <th>gross</th>\n",
       "      <th>company</th>\n",
       "      <th>runtime</th>\n",
       "      <th>released_year</th>\n",
       "    </tr>\n",
       "  </thead>\n",
       "  <tbody>\n",
       "    <tr>\n",
       "      <th>0</th>\n",
       "      <td>6587</td>\n",
       "      <td>6</td>\n",
       "      <td>6</td>\n",
       "      <td>1980</td>\n",
       "      <td>1705</td>\n",
       "      <td>8.4</td>\n",
       "      <td>927000</td>\n",
       "      <td>2589</td>\n",
       "      <td>4014</td>\n",
       "      <td>1047</td>\n",
       "      <td>54</td>\n",
       "      <td>19000000</td>\n",
       "      <td>46998772</td>\n",
       "      <td>2319</td>\n",
       "      <td>146</td>\n",
       "      <td>13</td>\n",
       "    </tr>\n",
       "    <tr>\n",
       "      <th>1</th>\n",
       "      <td>5573</td>\n",
       "      <td>6</td>\n",
       "      <td>1</td>\n",
       "      <td>1980</td>\n",
       "      <td>1492</td>\n",
       "      <td>5.8</td>\n",
       "      <td>65000</td>\n",
       "      <td>2269</td>\n",
       "      <td>1632</td>\n",
       "      <td>327</td>\n",
       "      <td>55</td>\n",
       "      <td>4500000</td>\n",
       "      <td>58853106</td>\n",
       "      <td>731</td>\n",
       "      <td>104</td>\n",
       "      <td>133</td>\n",
       "    </tr>\n",
       "    <tr>\n",
       "      <th>2</th>\n",
       "      <td>5142</td>\n",
       "      <td>4</td>\n",
       "      <td>0</td>\n",
       "      <td>1980</td>\n",
       "      <td>1771</td>\n",
       "      <td>8.7</td>\n",
       "      <td>1200000</td>\n",
       "      <td>1111</td>\n",
       "      <td>2567</td>\n",
       "      <td>1745</td>\n",
       "      <td>55</td>\n",
       "      <td>18000000</td>\n",
       "      <td>538375067</td>\n",
       "      <td>1540</td>\n",
       "      <td>124</td>\n",
       "      <td>13</td>\n",
       "    </tr>\n",
       "    <tr>\n",
       "      <th>3</th>\n",
       "      <td>286</td>\n",
       "      <td>4</td>\n",
       "      <td>4</td>\n",
       "      <td>1980</td>\n",
       "      <td>1492</td>\n",
       "      <td>7.7</td>\n",
       "      <td>221000</td>\n",
       "      <td>1301</td>\n",
       "      <td>2000</td>\n",
       "      <td>2246</td>\n",
       "      <td>55</td>\n",
       "      <td>3500000</td>\n",
       "      <td>83453539</td>\n",
       "      <td>1812</td>\n",
       "      <td>88</td>\n",
       "      <td>133</td>\n",
       "    </tr>\n",
       "    <tr>\n",
       "      <th>4</th>\n",
       "      <td>1027</td>\n",
       "      <td>6</td>\n",
       "      <td>4</td>\n",
       "      <td>1980</td>\n",
       "      <td>1543</td>\n",
       "      <td>7.3</td>\n",
       "      <td>108000</td>\n",
       "      <td>1054</td>\n",
       "      <td>521</td>\n",
       "      <td>410</td>\n",
       "      <td>55</td>\n",
       "      <td>6000000</td>\n",
       "      <td>39846344</td>\n",
       "      <td>1777</td>\n",
       "      <td>98</td>\n",
       "      <td>13</td>\n",
       "    </tr>\n",
       "    <tr>\n",
       "      <th>5</th>\n",
       "      <td>2109</td>\n",
       "      <td>6</td>\n",
       "      <td>10</td>\n",
       "      <td>1980</td>\n",
       "      <td>2502</td>\n",
       "      <td>6.4</td>\n",
       "      <td>123000</td>\n",
       "      <td>2528</td>\n",
       "      <td>4362</td>\n",
       "      <td>241</td>\n",
       "      <td>55</td>\n",
       "      <td>550000</td>\n",
       "      <td>39754601</td>\n",
       "      <td>1812</td>\n",
       "      <td>95</td>\n",
       "      <td>223</td>\n",
       "    </tr>\n",
       "    <tr>\n",
       "      <th>6</th>\n",
       "      <td>5574</td>\n",
       "      <td>6</td>\n",
       "      <td>0</td>\n",
       "      <td>1980</td>\n",
       "      <td>1771</td>\n",
       "      <td>7.9</td>\n",
       "      <td>188000</td>\n",
       "      <td>1412</td>\n",
       "      <td>838</td>\n",
       "      <td>1277</td>\n",
       "      <td>55</td>\n",
       "      <td>27000000</td>\n",
       "      <td>115229890</td>\n",
       "      <td>2281</td>\n",
       "      <td>133</td>\n",
       "      <td>13</td>\n",
       "    </tr>\n",
       "    <tr>\n",
       "      <th>7</th>\n",
       "      <td>4436</td>\n",
       "      <td>6</td>\n",
       "      <td>3</td>\n",
       "      <td>1980</td>\n",
       "      <td>699</td>\n",
       "      <td>8.2</td>\n",
       "      <td>330000</td>\n",
       "      <td>1829</td>\n",
       "      <td>1769</td>\n",
       "      <td>2240</td>\n",
       "      <td>55</td>\n",
       "      <td>18000000</td>\n",
       "      <td>23402427</td>\n",
       "      <td>631</td>\n",
       "      <td>129</td>\n",
       "      <td>12</td>\n",
       "    </tr>\n",
       "    <tr>\n",
       "      <th>8</th>\n",
       "      <td>5281</td>\n",
       "      <td>4</td>\n",
       "      <td>0</td>\n",
       "      <td>1980</td>\n",
       "      <td>1753</td>\n",
       "      <td>6.8</td>\n",
       "      <td>101000</td>\n",
       "      <td>2306</td>\n",
       "      <td>1979</td>\n",
       "      <td>877</td>\n",
       "      <td>55</td>\n",
       "      <td>54000000</td>\n",
       "      <td>108185706</td>\n",
       "      <td>883</td>\n",
       "      <td>127</td>\n",
       "      <td>14</td>\n",
       "    </tr>\n",
       "    <tr>\n",
       "      <th>9</th>\n",
       "      <td>6213</td>\n",
       "      <td>6</td>\n",
       "      <td>3</td>\n",
       "      <td>1980</td>\n",
       "      <td>2286</td>\n",
       "      <td>7.0</td>\n",
       "      <td>10000</td>\n",
       "      <td>2864</td>\n",
       "      <td>423</td>\n",
       "      <td>589</td>\n",
       "      <td>55</td>\n",
       "      <td>10000000</td>\n",
       "      <td>15795189</td>\n",
       "      <td>2272</td>\n",
       "      <td>100</td>\n",
       "      <td>133</td>\n",
       "    </tr>\n",
       "  </tbody>\n",
       "</table>\n",
       "</div>"
      ],
      "text/plain": [
       "   name  rating  genre  year  released  score    votes  director  writer  \\\n",
       "0  6587       6      6  1980      1705    8.4   927000      2589    4014   \n",
       "1  5573       6      1  1980      1492    5.8    65000      2269    1632   \n",
       "2  5142       4      0  1980      1771    8.7  1200000      1111    2567   \n",
       "3   286       4      4  1980      1492    7.7   221000      1301    2000   \n",
       "4  1027       6      4  1980      1543    7.3   108000      1054     521   \n",
       "5  2109       6     10  1980      2502    6.4   123000      2528    4362   \n",
       "6  5574       6      0  1980      1771    7.9   188000      1412     838   \n",
       "7  4436       6      3  1980       699    8.2   330000      1829    1769   \n",
       "8  5281       4      0  1980      1753    6.8   101000      2306    1979   \n",
       "9  6213       6      3  1980      2286    7.0    10000      2864     423   \n",
       "\n",
       "   star  country    budget      gross  company  runtime  released_year  \n",
       "0  1047       54  19000000   46998772     2319      146             13  \n",
       "1   327       55   4500000   58853106      731      104            133  \n",
       "2  1745       55  18000000  538375067     1540      124             13  \n",
       "3  2246       55   3500000   83453539     1812       88            133  \n",
       "4   410       55   6000000   39846344     1777       98             13  \n",
       "5   241       55    550000   39754601     1812       95            223  \n",
       "6  1277       55  27000000  115229890     2281      133             13  \n",
       "7  2240       55  18000000   23402427      631      129             12  \n",
       "8   877       55  54000000  108185706      883      127             14  \n",
       "9   589       55  10000000   15795189     2272      100            133  "
      ]
     },
     "execution_count": 82,
     "metadata": {},
     "output_type": "execute_result"
    }
   ],
   "source": [
    "df.head(10)"
   ]
  },
  {
   "cell_type": "code",
   "execution_count": 7,
   "id": "ab126120",
   "metadata": {},
   "outputs": [
    {
     "data": {
      "text/plain": [
       "0    Universal Pictures\n",
       "dtype: object"
      ]
     },
     "execution_count": 7,
     "metadata": {},
     "output_type": "execute_result"
    }
   ],
   "source": [
    "# filling null values with mean for int and float data type columns and with mode for object data type columns\n",
    "\n",
    "df['company'].mode()"
   ]
  },
  {
   "cell_type": "code",
   "execution_count": 8,
   "id": "28c51258",
   "metadata": {},
   "outputs": [],
   "source": [
    "df['company']=df['company'].fillna(df['company'].mode()[0])"
   ]
  },
  {
   "cell_type": "code",
   "execution_count": 9,
   "id": "cdb9adea",
   "metadata": {},
   "outputs": [
    {
     "data": {
      "text/plain": [
       "0"
      ]
     },
     "execution_count": 9,
     "metadata": {},
     "output_type": "execute_result"
    }
   ],
   "source": [
    "df['company'].isnull().sum()"
   ]
  },
  {
   "cell_type": "code",
   "execution_count": 10,
   "id": "500c2229",
   "metadata": {},
   "outputs": [
    {
     "data": {
      "text/plain": [
       "name           0\n",
       "rating        77\n",
       "genre          0\n",
       "year           0\n",
       "released       2\n",
       "score          3\n",
       "votes          3\n",
       "director       0\n",
       "writer         3\n",
       "star           1\n",
       "country        3\n",
       "budget      2171\n",
       "gross        189\n",
       "company        0\n",
       "runtime        4\n",
       "dtype: int64"
      ]
     },
     "execution_count": 10,
     "metadata": {},
     "output_type": "execute_result"
    }
   ],
   "source": [
    "df.isnull().sum()"
   ]
  },
  {
   "cell_type": "code",
   "execution_count": 11,
   "id": "ab8029f8",
   "metadata": {},
   "outputs": [],
   "source": [
    "df['rating'].fillna(df['rating'].mode(),inplace=True)"
   ]
  },
  {
   "cell_type": "code",
   "execution_count": 12,
   "id": "852048a2",
   "metadata": {},
   "outputs": [
    {
     "data": {
      "text/plain": [
       "77"
      ]
     },
     "execution_count": 12,
     "metadata": {},
     "output_type": "execute_result"
    }
   ],
   "source": [
    "df['rating'].isnull().sum()"
   ]
  },
  {
   "cell_type": "code",
   "execution_count": 13,
   "id": "709ca447",
   "metadata": {},
   "outputs": [
    {
     "data": {
      "text/plain": [
       "0    R\n",
       "dtype: object"
      ]
     },
     "execution_count": 13,
     "metadata": {},
     "output_type": "execute_result"
    }
   ],
   "source": [
    "df['rating'].mode()"
   ]
  },
  {
   "cell_type": "code",
   "execution_count": 14,
   "id": "7ebf8add",
   "metadata": {},
   "outputs": [],
   "source": [
    "df['budget'].fillna(df['budget'].mean(),inplace=True)\n",
    "df['gross'].fillna(df['gross'].mean(),inplace=True)\n",
    "df['runtime'].fillna(df['runtime'].mean(),inplace=True)"
   ]
  },
  {
   "cell_type": "code",
   "execution_count": 15,
   "id": "686b1a9b",
   "metadata": {},
   "outputs": [
    {
     "data": {
      "text/plain": [
       "False"
      ]
     },
     "execution_count": 15,
     "metadata": {},
     "output_type": "execute_result"
    }
   ],
   "source": [
    "df['budget'].isnull().any()"
   ]
  },
  {
   "cell_type": "code",
   "execution_count": 16,
   "id": "27363153",
   "metadata": {},
   "outputs": [],
   "source": [
    "df['gross'].fillna(df['gross'].mean(),inplace=True)"
   ]
  },
  {
   "cell_type": "code",
   "execution_count": 17,
   "id": "0d58362e",
   "metadata": {},
   "outputs": [
    {
     "data": {
      "text/plain": [
       "False"
      ]
     },
     "execution_count": 17,
     "metadata": {},
     "output_type": "execute_result"
    }
   ],
   "source": [
    "df['gross'].isnull().any()"
   ]
  },
  {
   "cell_type": "code",
   "execution_count": 18,
   "id": "7805a4ff",
   "metadata": {},
   "outputs": [],
   "source": [
    "df['runtime'].fillna(df['runtime'].mean(),inplace=True)"
   ]
  },
  {
   "cell_type": "code",
   "execution_count": 19,
   "id": "5501adf0",
   "metadata": {},
   "outputs": [
    {
     "data": {
      "text/plain": [
       "False"
      ]
     },
     "execution_count": 19,
     "metadata": {},
     "output_type": "execute_result"
    }
   ],
   "source": [
    "df['runtime'].isnull().any()"
   ]
  },
  {
   "cell_type": "code",
   "execution_count": 20,
   "id": "462926b3",
   "metadata": {},
   "outputs": [
    {
     "data": {
      "text/plain": [
       "name         0\n",
       "rating      77\n",
       "genre        0\n",
       "year         0\n",
       "released     2\n",
       "score        3\n",
       "votes        3\n",
       "director     0\n",
       "writer       3\n",
       "star         1\n",
       "country      3\n",
       "budget       0\n",
       "gross        0\n",
       "company      0\n",
       "runtime      0\n",
       "dtype: int64"
      ]
     },
     "execution_count": 20,
     "metadata": {},
     "output_type": "execute_result"
    }
   ],
   "source": [
    "df.isnull().sum()"
   ]
  },
  {
   "cell_type": "code",
   "execution_count": 21,
   "id": "341e88f2",
   "metadata": {},
   "outputs": [
    {
     "data": {
      "text/plain": [
       "0                    Warner Bros.\n",
       "1               Columbia Pictures\n",
       "2                       Lucasfilm\n",
       "3              Paramount Pictures\n",
       "4                  Orion Pictures\n",
       "                  ...            \n",
       "7663           Universal Pictures\n",
       "7664    Cactus Blue Entertainment\n",
       "7665             Embi Productions\n",
       "7666           Universal Pictures\n",
       "7667                  PK 65 Films\n",
       "Name: company, Length: 7668, dtype: object"
      ]
     },
     "execution_count": 21,
     "metadata": {},
     "output_type": "execute_result"
    }
   ],
   "source": [
    "df['company']"
   ]
  },
  {
   "cell_type": "code",
   "execution_count": 22,
   "id": "bae345c5",
   "metadata": {},
   "outputs": [],
   "source": [
    "df1=pd.read_csv(r'C:\\Users\\Arun kumar Biyyala\\Desktop\\movies.csv')"
   ]
  },
  {
   "cell_type": "code",
   "execution_count": 23,
   "id": "ff3267a0",
   "metadata": {},
   "outputs": [
    {
     "data": {
      "text/html": [
       "<div>\n",
       "<style scoped>\n",
       "    .dataframe tbody tr th:only-of-type {\n",
       "        vertical-align: middle;\n",
       "    }\n",
       "\n",
       "    .dataframe tbody tr th {\n",
       "        vertical-align: top;\n",
       "    }\n",
       "\n",
       "    .dataframe thead th {\n",
       "        text-align: right;\n",
       "    }\n",
       "</style>\n",
       "<table border=\"1\" class=\"dataframe\">\n",
       "  <thead>\n",
       "    <tr style=\"text-align: right;\">\n",
       "      <th></th>\n",
       "      <th>name</th>\n",
       "      <th>rating</th>\n",
       "      <th>genre</th>\n",
       "      <th>year</th>\n",
       "      <th>released</th>\n",
       "      <th>score</th>\n",
       "      <th>votes</th>\n",
       "      <th>director</th>\n",
       "      <th>writer</th>\n",
       "      <th>star</th>\n",
       "      <th>country</th>\n",
       "      <th>budget</th>\n",
       "      <th>gross</th>\n",
       "      <th>company</th>\n",
       "      <th>runtime</th>\n",
       "    </tr>\n",
       "  </thead>\n",
       "  <tbody>\n",
       "    <tr>\n",
       "      <th>0</th>\n",
       "      <td>The Shining</td>\n",
       "      <td>R</td>\n",
       "      <td>Drama</td>\n",
       "      <td>1980</td>\n",
       "      <td>June 13, 1980 (United States)</td>\n",
       "      <td>8.4</td>\n",
       "      <td>927000.0</td>\n",
       "      <td>Stanley Kubrick</td>\n",
       "      <td>Stephen King</td>\n",
       "      <td>Jack Nicholson</td>\n",
       "      <td>United Kingdom</td>\n",
       "      <td>19000000.0</td>\n",
       "      <td>46998772.0</td>\n",
       "      <td>Warner Bros.</td>\n",
       "      <td>146.0</td>\n",
       "    </tr>\n",
       "    <tr>\n",
       "      <th>1</th>\n",
       "      <td>The Blue Lagoon</td>\n",
       "      <td>R</td>\n",
       "      <td>Adventure</td>\n",
       "      <td>1980</td>\n",
       "      <td>July 2, 1980 (United States)</td>\n",
       "      <td>5.8</td>\n",
       "      <td>65000.0</td>\n",
       "      <td>Randal Kleiser</td>\n",
       "      <td>Henry De Vere Stacpoole</td>\n",
       "      <td>Brooke Shields</td>\n",
       "      <td>United States</td>\n",
       "      <td>4500000.0</td>\n",
       "      <td>58853106.0</td>\n",
       "      <td>Columbia Pictures</td>\n",
       "      <td>104.0</td>\n",
       "    </tr>\n",
       "    <tr>\n",
       "      <th>2</th>\n",
       "      <td>Star Wars: Episode V - The Empire Strikes Back</td>\n",
       "      <td>PG</td>\n",
       "      <td>Action</td>\n",
       "      <td>1980</td>\n",
       "      <td>June 20, 1980 (United States)</td>\n",
       "      <td>8.7</td>\n",
       "      <td>1200000.0</td>\n",
       "      <td>Irvin Kershner</td>\n",
       "      <td>Leigh Brackett</td>\n",
       "      <td>Mark Hamill</td>\n",
       "      <td>United States</td>\n",
       "      <td>18000000.0</td>\n",
       "      <td>538375067.0</td>\n",
       "      <td>Lucasfilm</td>\n",
       "      <td>124.0</td>\n",
       "    </tr>\n",
       "    <tr>\n",
       "      <th>3</th>\n",
       "      <td>Airplane!</td>\n",
       "      <td>PG</td>\n",
       "      <td>Comedy</td>\n",
       "      <td>1980</td>\n",
       "      <td>July 2, 1980 (United States)</td>\n",
       "      <td>7.7</td>\n",
       "      <td>221000.0</td>\n",
       "      <td>Jim Abrahams</td>\n",
       "      <td>Jim Abrahams</td>\n",
       "      <td>Robert Hays</td>\n",
       "      <td>United States</td>\n",
       "      <td>3500000.0</td>\n",
       "      <td>83453539.0</td>\n",
       "      <td>Paramount Pictures</td>\n",
       "      <td>88.0</td>\n",
       "    </tr>\n",
       "    <tr>\n",
       "      <th>4</th>\n",
       "      <td>Caddyshack</td>\n",
       "      <td>R</td>\n",
       "      <td>Comedy</td>\n",
       "      <td>1980</td>\n",
       "      <td>July 25, 1980 (United States)</td>\n",
       "      <td>7.3</td>\n",
       "      <td>108000.0</td>\n",
       "      <td>Harold Ramis</td>\n",
       "      <td>Brian Doyle-Murray</td>\n",
       "      <td>Chevy Chase</td>\n",
       "      <td>United States</td>\n",
       "      <td>6000000.0</td>\n",
       "      <td>39846344.0</td>\n",
       "      <td>Orion Pictures</td>\n",
       "      <td>98.0</td>\n",
       "    </tr>\n",
       "  </tbody>\n",
       "</table>\n",
       "</div>"
      ],
      "text/plain": [
       "                                             name rating      genre  year  \\\n",
       "0                                     The Shining      R      Drama  1980   \n",
       "1                                 The Blue Lagoon      R  Adventure  1980   \n",
       "2  Star Wars: Episode V - The Empire Strikes Back     PG     Action  1980   \n",
       "3                                       Airplane!     PG     Comedy  1980   \n",
       "4                                      Caddyshack      R     Comedy  1980   \n",
       "\n",
       "                        released  score      votes         director  \\\n",
       "0  June 13, 1980 (United States)    8.4   927000.0  Stanley Kubrick   \n",
       "1   July 2, 1980 (United States)    5.8    65000.0   Randal Kleiser   \n",
       "2  June 20, 1980 (United States)    8.7  1200000.0   Irvin Kershner   \n",
       "3   July 2, 1980 (United States)    7.7   221000.0     Jim Abrahams   \n",
       "4  July 25, 1980 (United States)    7.3   108000.0     Harold Ramis   \n",
       "\n",
       "                    writer            star         country      budget  \\\n",
       "0             Stephen King  Jack Nicholson  United Kingdom  19000000.0   \n",
       "1  Henry De Vere Stacpoole  Brooke Shields   United States   4500000.0   \n",
       "2           Leigh Brackett     Mark Hamill   United States  18000000.0   \n",
       "3             Jim Abrahams     Robert Hays   United States   3500000.0   \n",
       "4       Brian Doyle-Murray     Chevy Chase   United States   6000000.0   \n",
       "\n",
       "         gross             company  runtime  \n",
       "0   46998772.0        Warner Bros.    146.0  \n",
       "1   58853106.0   Columbia Pictures    104.0  \n",
       "2  538375067.0           Lucasfilm    124.0  \n",
       "3   83453539.0  Paramount Pictures     88.0  \n",
       "4   39846344.0      Orion Pictures     98.0  "
      ]
     },
     "execution_count": 23,
     "metadata": {},
     "output_type": "execute_result"
    }
   ],
   "source": [
    "df1.head()"
   ]
  },
  {
   "cell_type": "code",
   "execution_count": 24,
   "id": "408e105f",
   "metadata": {},
   "outputs": [],
   "source": [
    "df['company']=df1['company']"
   ]
  },
  {
   "cell_type": "code",
   "execution_count": 25,
   "id": "faddbadb",
   "metadata": {},
   "outputs": [
    {
     "data": {
      "text/html": [
       "<div>\n",
       "<style scoped>\n",
       "    .dataframe tbody tr th:only-of-type {\n",
       "        vertical-align: middle;\n",
       "    }\n",
       "\n",
       "    .dataframe tbody tr th {\n",
       "        vertical-align: top;\n",
       "    }\n",
       "\n",
       "    .dataframe thead th {\n",
       "        text-align: right;\n",
       "    }\n",
       "</style>\n",
       "<table border=\"1\" class=\"dataframe\">\n",
       "  <thead>\n",
       "    <tr style=\"text-align: right;\">\n",
       "      <th></th>\n",
       "      <th>name</th>\n",
       "      <th>rating</th>\n",
       "      <th>genre</th>\n",
       "      <th>year</th>\n",
       "      <th>released</th>\n",
       "      <th>score</th>\n",
       "      <th>votes</th>\n",
       "      <th>director</th>\n",
       "      <th>writer</th>\n",
       "      <th>star</th>\n",
       "      <th>country</th>\n",
       "      <th>budget</th>\n",
       "      <th>gross</th>\n",
       "      <th>company</th>\n",
       "      <th>runtime</th>\n",
       "    </tr>\n",
       "  </thead>\n",
       "  <tbody>\n",
       "    <tr>\n",
       "      <th>0</th>\n",
       "      <td>The Shining</td>\n",
       "      <td>R</td>\n",
       "      <td>Drama</td>\n",
       "      <td>1980</td>\n",
       "      <td>June 13, 1980 (United States)</td>\n",
       "      <td>8.4</td>\n",
       "      <td>927000.0</td>\n",
       "      <td>Stanley Kubrick</td>\n",
       "      <td>Stephen King</td>\n",
       "      <td>Jack Nicholson</td>\n",
       "      <td>United Kingdom</td>\n",
       "      <td>19000000.0</td>\n",
       "      <td>46998772.0</td>\n",
       "      <td>Warner Bros.</td>\n",
       "      <td>146.0</td>\n",
       "    </tr>\n",
       "    <tr>\n",
       "      <th>1</th>\n",
       "      <td>The Blue Lagoon</td>\n",
       "      <td>R</td>\n",
       "      <td>Adventure</td>\n",
       "      <td>1980</td>\n",
       "      <td>July 2, 1980 (United States)</td>\n",
       "      <td>5.8</td>\n",
       "      <td>65000.0</td>\n",
       "      <td>Randal Kleiser</td>\n",
       "      <td>Henry De Vere Stacpoole</td>\n",
       "      <td>Brooke Shields</td>\n",
       "      <td>United States</td>\n",
       "      <td>4500000.0</td>\n",
       "      <td>58853106.0</td>\n",
       "      <td>Columbia Pictures</td>\n",
       "      <td>104.0</td>\n",
       "    </tr>\n",
       "    <tr>\n",
       "      <th>2</th>\n",
       "      <td>Star Wars: Episode V - The Empire Strikes Back</td>\n",
       "      <td>PG</td>\n",
       "      <td>Action</td>\n",
       "      <td>1980</td>\n",
       "      <td>June 20, 1980 (United States)</td>\n",
       "      <td>8.7</td>\n",
       "      <td>1200000.0</td>\n",
       "      <td>Irvin Kershner</td>\n",
       "      <td>Leigh Brackett</td>\n",
       "      <td>Mark Hamill</td>\n",
       "      <td>United States</td>\n",
       "      <td>18000000.0</td>\n",
       "      <td>538375067.0</td>\n",
       "      <td>Lucasfilm</td>\n",
       "      <td>124.0</td>\n",
       "    </tr>\n",
       "    <tr>\n",
       "      <th>3</th>\n",
       "      <td>Airplane!</td>\n",
       "      <td>PG</td>\n",
       "      <td>Comedy</td>\n",
       "      <td>1980</td>\n",
       "      <td>July 2, 1980 (United States)</td>\n",
       "      <td>7.7</td>\n",
       "      <td>221000.0</td>\n",
       "      <td>Jim Abrahams</td>\n",
       "      <td>Jim Abrahams</td>\n",
       "      <td>Robert Hays</td>\n",
       "      <td>United States</td>\n",
       "      <td>3500000.0</td>\n",
       "      <td>83453539.0</td>\n",
       "      <td>Paramount Pictures</td>\n",
       "      <td>88.0</td>\n",
       "    </tr>\n",
       "    <tr>\n",
       "      <th>4</th>\n",
       "      <td>Caddyshack</td>\n",
       "      <td>R</td>\n",
       "      <td>Comedy</td>\n",
       "      <td>1980</td>\n",
       "      <td>July 25, 1980 (United States)</td>\n",
       "      <td>7.3</td>\n",
       "      <td>108000.0</td>\n",
       "      <td>Harold Ramis</td>\n",
       "      <td>Brian Doyle-Murray</td>\n",
       "      <td>Chevy Chase</td>\n",
       "      <td>United States</td>\n",
       "      <td>6000000.0</td>\n",
       "      <td>39846344.0</td>\n",
       "      <td>Orion Pictures</td>\n",
       "      <td>98.0</td>\n",
       "    </tr>\n",
       "  </tbody>\n",
       "</table>\n",
       "</div>"
      ],
      "text/plain": [
       "                                             name rating      genre  year  \\\n",
       "0                                     The Shining      R      Drama  1980   \n",
       "1                                 The Blue Lagoon      R  Adventure  1980   \n",
       "2  Star Wars: Episode V - The Empire Strikes Back     PG     Action  1980   \n",
       "3                                       Airplane!     PG     Comedy  1980   \n",
       "4                                      Caddyshack      R     Comedy  1980   \n",
       "\n",
       "                        released  score      votes         director  \\\n",
       "0  June 13, 1980 (United States)    8.4   927000.0  Stanley Kubrick   \n",
       "1   July 2, 1980 (United States)    5.8    65000.0   Randal Kleiser   \n",
       "2  June 20, 1980 (United States)    8.7  1200000.0   Irvin Kershner   \n",
       "3   July 2, 1980 (United States)    7.7   221000.0     Jim Abrahams   \n",
       "4  July 25, 1980 (United States)    7.3   108000.0     Harold Ramis   \n",
       "\n",
       "                    writer            star         country      budget  \\\n",
       "0             Stephen King  Jack Nicholson  United Kingdom  19000000.0   \n",
       "1  Henry De Vere Stacpoole  Brooke Shields   United States   4500000.0   \n",
       "2           Leigh Brackett     Mark Hamill   United States  18000000.0   \n",
       "3             Jim Abrahams     Robert Hays   United States   3500000.0   \n",
       "4       Brian Doyle-Murray     Chevy Chase   United States   6000000.0   \n",
       "\n",
       "         gross             company  runtime  \n",
       "0   46998772.0        Warner Bros.    146.0  \n",
       "1   58853106.0   Columbia Pictures    104.0  \n",
       "2  538375067.0           Lucasfilm    124.0  \n",
       "3   83453539.0  Paramount Pictures     88.0  \n",
       "4   39846344.0      Orion Pictures     98.0  "
      ]
     },
     "execution_count": 25,
     "metadata": {},
     "output_type": "execute_result"
    }
   ],
   "source": [
    "df.head()"
   ]
  },
  {
   "cell_type": "code",
   "execution_count": 26,
   "id": "794d9520",
   "metadata": {},
   "outputs": [
    {
     "data": {
      "text/plain": [
       "name         0\n",
       "rating      77\n",
       "genre        0\n",
       "year         0\n",
       "released     2\n",
       "score        3\n",
       "votes        3\n",
       "director     0\n",
       "writer       3\n",
       "star         1\n",
       "country      3\n",
       "budget       0\n",
       "gross        0\n",
       "company     17\n",
       "runtime      0\n",
       "dtype: int64"
      ]
     },
     "execution_count": 26,
     "metadata": {},
     "output_type": "execute_result"
    }
   ],
   "source": [
    "df.isnull().sum()"
   ]
  },
  {
   "cell_type": "code",
   "execution_count": 27,
   "id": "0f6e8b56",
   "metadata": {},
   "outputs": [
    {
     "data": {
      "text/plain": [
       "array(['R', 'PG', 'G', nan, 'Not Rated', 'NC-17', 'Approved', 'TV-PG',\n",
       "       'PG-13', 'Unrated', 'X', 'TV-MA', 'TV-14'], dtype=object)"
      ]
     },
     "execution_count": 27,
     "metadata": {},
     "output_type": "execute_result"
    }
   ],
   "source": [
    "df['rating'].unique()"
   ]
  },
  {
   "cell_type": "code",
   "execution_count": 28,
   "id": "12130d4c",
   "metadata": {},
   "outputs": [
    {
     "data": {
      "text/plain": [
       "0    R\n",
       "dtype: object"
      ]
     },
     "execution_count": 28,
     "metadata": {},
     "output_type": "execute_result"
    }
   ],
   "source": [
    "df['rating'].mode()"
   ]
  },
  {
   "cell_type": "code",
   "execution_count": 29,
   "id": "c416d3fa",
   "metadata": {},
   "outputs": [],
   "source": [
    "df['rating'].fillna('R',inplace=True)"
   ]
  },
  {
   "cell_type": "code",
   "execution_count": 30,
   "id": "d8dd5e40",
   "metadata": {},
   "outputs": [
    {
     "data": {
      "text/plain": [
       "False"
      ]
     },
     "execution_count": 30,
     "metadata": {},
     "output_type": "execute_result"
    }
   ],
   "source": [
    "df['rating'].isnull().any()"
   ]
  },
  {
   "cell_type": "code",
   "execution_count": 31,
   "id": "588008a9",
   "metadata": {},
   "outputs": [
    {
     "data": {
      "text/plain": [
       "0    Universal Pictures\n",
       "dtype: object"
      ]
     },
     "execution_count": 31,
     "metadata": {},
     "output_type": "execute_result"
    }
   ],
   "source": [
    "df['company'].mode()"
   ]
  },
  {
   "cell_type": "code",
   "execution_count": 32,
   "id": "50998302",
   "metadata": {},
   "outputs": [],
   "source": [
    "df['company'].fillna('Universal Pictures',inplace=True)"
   ]
  },
  {
   "cell_type": "code",
   "execution_count": 33,
   "id": "3753ba0a",
   "metadata": {},
   "outputs": [
    {
     "data": {
      "text/plain": [
       "False"
      ]
     },
     "execution_count": 33,
     "metadata": {},
     "output_type": "execute_result"
    }
   ],
   "source": [
    "df['company'].isnull().any()"
   ]
  },
  {
   "cell_type": "code",
   "execution_count": 34,
   "id": "b9046042",
   "metadata": {},
   "outputs": [
    {
     "data": {
      "text/plain": [
       "0    February 14, 1986 (United States)\n",
       "1         May 17, 2019 (United States)\n",
       "2      October 4, 1991 (United States)\n",
       "dtype: object"
      ]
     },
     "execution_count": 34,
     "metadata": {},
     "output_type": "execute_result"
    }
   ],
   "source": [
    "df['released'].mode()"
   ]
  },
  {
   "cell_type": "code",
   "execution_count": 35,
   "id": "49c44059",
   "metadata": {},
   "outputs": [
    {
     "data": {
      "text/plain": [
       "array(['June 13, 1980 (United States)', 'July 2, 1980 (United States)',\n",
       "       'June 20, 1980 (United States)', ...,\n",
       "       'October 23, 2020 (United States)', 'April 27, 2020 (Cameroon)',\n",
       "       'August 19, 2020 (United States)'], dtype=object)"
      ]
     },
     "execution_count": 35,
     "metadata": {},
     "output_type": "execute_result"
    }
   ],
   "source": [
    "df['released'].unique()"
   ]
  },
  {
   "cell_type": "code",
   "execution_count": 36,
   "id": "c9c81eeb",
   "metadata": {},
   "outputs": [],
   "source": [
    "df.fillna({'score':df['score'].mean(),'votes':df['votes'].mean()},inplace=True)"
   ]
  },
  {
   "cell_type": "code",
   "execution_count": 37,
   "id": "3f36acc4",
   "metadata": {},
   "outputs": [
    {
     "data": {
      "text/plain": [
       "name        False\n",
       "rating      False\n",
       "genre       False\n",
       "year        False\n",
       "released     True\n",
       "score       False\n",
       "votes       False\n",
       "director    False\n",
       "writer       True\n",
       "star         True\n",
       "country      True\n",
       "budget      False\n",
       "gross       False\n",
       "company     False\n",
       "runtime     False\n",
       "dtype: bool"
      ]
     },
     "execution_count": 37,
     "metadata": {},
     "output_type": "execute_result"
    }
   ],
   "source": [
    "df.isnull().any()"
   ]
  },
  {
   "cell_type": "code",
   "execution_count": 38,
   "id": "46a8285c",
   "metadata": {},
   "outputs": [
    {
     "name": "stdout",
     "output_type": "stream",
     "text": [
      "0    February 14, 1986 (United States)\n",
      "1         May 17, 2019 (United States)\n",
      "2      October 4, 1991 (United States)\n",
      "dtype: object 0    Woody Allen\n",
      "dtype: object 0    Nicolas Cage\n",
      "dtype: object 0    United States\n",
      "dtype: object\n"
     ]
    }
   ],
   "source": [
    "print(df['released'].mode(),\n",
    "df['writer'].mode(),\n",
    "df['star'].mode(),\n",
    "df['country'].mode())\n"
   ]
  },
  {
   "cell_type": "code",
   "execution_count": 39,
   "id": "1e9b1a4c",
   "metadata": {},
   "outputs": [],
   "source": [
    "df.fillna({'released':'May 17, 2019 (United States)','writer':'Woody Allen','star':'Nicolas Cage','country':'United States'},inplace=True)"
   ]
  },
  {
   "cell_type": "code",
   "execution_count": 40,
   "id": "2d5f11a4",
   "metadata": {},
   "outputs": [
    {
     "data": {
      "text/plain": [
       "name        0\n",
       "rating      0\n",
       "genre       0\n",
       "year        0\n",
       "released    0\n",
       "score       0\n",
       "votes       0\n",
       "director    0\n",
       "writer      0\n",
       "star        0\n",
       "country     0\n",
       "budget      0\n",
       "gross       0\n",
       "company     0\n",
       "runtime     0\n",
       "dtype: int64"
      ]
     },
     "execution_count": 40,
     "metadata": {},
     "output_type": "execute_result"
    }
   ],
   "source": [
    "df.isnull().sum()"
   ]
  },
  {
   "cell_type": "code",
   "execution_count": 41,
   "id": "31c2f28b",
   "metadata": {},
   "outputs": [
    {
     "data": {
      "text/plain": [
       "name         object\n",
       "rating       object\n",
       "genre        object\n",
       "year          int64\n",
       "released     object\n",
       "score       float64\n",
       "votes       float64\n",
       "director     object\n",
       "writer       object\n",
       "star         object\n",
       "country      object\n",
       "budget      float64\n",
       "gross       float64\n",
       "company      object\n",
       "runtime     float64\n",
       "dtype: object"
      ]
     },
     "execution_count": 41,
     "metadata": {},
     "output_type": "execute_result"
    }
   ],
   "source": [
    "df.dtypes"
   ]
  },
  {
   "cell_type": "code",
   "execution_count": 42,
   "id": "7537b6c2",
   "metadata": {},
   "outputs": [],
   "source": [
    "# changing data type\n",
    "df['budget']=df['budget'].astype('int64')\n",
    "df['gross']=df['gross'].astype('int64')\n",
    "df['votes']=df['votes'].astype('int64')\n",
    "df['runtime']=df['runtime'].astype('int64')"
   ]
  },
  {
   "cell_type": "code",
   "execution_count": 43,
   "id": "321daad3",
   "metadata": {},
   "outputs": [
    {
     "data": {
      "text/plain": [
       "0    19000000\n",
       "1     4500000\n",
       "2    18000000\n",
       "3     3500000\n",
       "4     6000000\n",
       "Name: budget, dtype: int64"
      ]
     },
     "execution_count": 43,
     "metadata": {},
     "output_type": "execute_result"
    }
   ],
   "source": [
    "df['budget'].head()"
   ]
  },
  {
   "cell_type": "code",
   "execution_count": 44,
   "id": "6d925880",
   "metadata": {},
   "outputs": [],
   "source": [
    "#correcting year of release\n",
    "df['released_year']=df['released'].astype('str').str[8:13]"
   ]
  },
  {
   "cell_type": "code",
   "execution_count": 45,
   "id": "6ab3e8ba",
   "metadata": {},
   "outputs": [
    {
     "data": {
      "text/html": [
       "<div>\n",
       "<style scoped>\n",
       "    .dataframe tbody tr th:only-of-type {\n",
       "        vertical-align: middle;\n",
       "    }\n",
       "\n",
       "    .dataframe tbody tr th {\n",
       "        vertical-align: top;\n",
       "    }\n",
       "\n",
       "    .dataframe thead th {\n",
       "        text-align: right;\n",
       "    }\n",
       "</style>\n",
       "<table border=\"1\" class=\"dataframe\">\n",
       "  <thead>\n",
       "    <tr style=\"text-align: right;\">\n",
       "      <th></th>\n",
       "      <th>name</th>\n",
       "      <th>rating</th>\n",
       "      <th>genre</th>\n",
       "      <th>year</th>\n",
       "      <th>released</th>\n",
       "      <th>score</th>\n",
       "      <th>votes</th>\n",
       "      <th>director</th>\n",
       "      <th>writer</th>\n",
       "      <th>star</th>\n",
       "      <th>country</th>\n",
       "      <th>budget</th>\n",
       "      <th>gross</th>\n",
       "      <th>company</th>\n",
       "      <th>runtime</th>\n",
       "      <th>released_year</th>\n",
       "    </tr>\n",
       "  </thead>\n",
       "  <tbody>\n",
       "    <tr>\n",
       "      <th>0</th>\n",
       "      <td>The Shining</td>\n",
       "      <td>R</td>\n",
       "      <td>Drama</td>\n",
       "      <td>1980</td>\n",
       "      <td>June 13, 1980 (United States)</td>\n",
       "      <td>8.4</td>\n",
       "      <td>927000</td>\n",
       "      <td>Stanley Kubrick</td>\n",
       "      <td>Stephen King</td>\n",
       "      <td>Jack Nicholson</td>\n",
       "      <td>United Kingdom</td>\n",
       "      <td>19000000</td>\n",
       "      <td>46998772</td>\n",
       "      <td>Warner Bros.</td>\n",
       "      <td>146</td>\n",
       "      <td>1980</td>\n",
       "    </tr>\n",
       "    <tr>\n",
       "      <th>1</th>\n",
       "      <td>The Blue Lagoon</td>\n",
       "      <td>R</td>\n",
       "      <td>Adventure</td>\n",
       "      <td>1980</td>\n",
       "      <td>July 2, 1980 (United States)</td>\n",
       "      <td>5.8</td>\n",
       "      <td>65000</td>\n",
       "      <td>Randal Kleiser</td>\n",
       "      <td>Henry De Vere Stacpoole</td>\n",
       "      <td>Brooke Shields</td>\n",
       "      <td>United States</td>\n",
       "      <td>4500000</td>\n",
       "      <td>58853106</td>\n",
       "      <td>Columbia Pictures</td>\n",
       "      <td>104</td>\n",
       "      <td>1980</td>\n",
       "    </tr>\n",
       "    <tr>\n",
       "      <th>2</th>\n",
       "      <td>Star Wars: Episode V - The Empire Strikes Back</td>\n",
       "      <td>PG</td>\n",
       "      <td>Action</td>\n",
       "      <td>1980</td>\n",
       "      <td>June 20, 1980 (United States)</td>\n",
       "      <td>8.7</td>\n",
       "      <td>1200000</td>\n",
       "      <td>Irvin Kershner</td>\n",
       "      <td>Leigh Brackett</td>\n",
       "      <td>Mark Hamill</td>\n",
       "      <td>United States</td>\n",
       "      <td>18000000</td>\n",
       "      <td>538375067</td>\n",
       "      <td>Lucasfilm</td>\n",
       "      <td>124</td>\n",
       "      <td>1980</td>\n",
       "    </tr>\n",
       "    <tr>\n",
       "      <th>3</th>\n",
       "      <td>Airplane!</td>\n",
       "      <td>PG</td>\n",
       "      <td>Comedy</td>\n",
       "      <td>1980</td>\n",
       "      <td>July 2, 1980 (United States)</td>\n",
       "      <td>7.7</td>\n",
       "      <td>221000</td>\n",
       "      <td>Jim Abrahams</td>\n",
       "      <td>Jim Abrahams</td>\n",
       "      <td>Robert Hays</td>\n",
       "      <td>United States</td>\n",
       "      <td>3500000</td>\n",
       "      <td>83453539</td>\n",
       "      <td>Paramount Pictures</td>\n",
       "      <td>88</td>\n",
       "      <td>1980</td>\n",
       "    </tr>\n",
       "    <tr>\n",
       "      <th>4</th>\n",
       "      <td>Caddyshack</td>\n",
       "      <td>R</td>\n",
       "      <td>Comedy</td>\n",
       "      <td>1980</td>\n",
       "      <td>July 25, 1980 (United States)</td>\n",
       "      <td>7.3</td>\n",
       "      <td>108000</td>\n",
       "      <td>Harold Ramis</td>\n",
       "      <td>Brian Doyle-Murray</td>\n",
       "      <td>Chevy Chase</td>\n",
       "      <td>United States</td>\n",
       "      <td>6000000</td>\n",
       "      <td>39846344</td>\n",
       "      <td>Orion Pictures</td>\n",
       "      <td>98</td>\n",
       "      <td>1980</td>\n",
       "    </tr>\n",
       "  </tbody>\n",
       "</table>\n",
       "</div>"
      ],
      "text/plain": [
       "                                             name rating      genre  year  \\\n",
       "0                                     The Shining      R      Drama  1980   \n",
       "1                                 The Blue Lagoon      R  Adventure  1980   \n",
       "2  Star Wars: Episode V - The Empire Strikes Back     PG     Action  1980   \n",
       "3                                       Airplane!     PG     Comedy  1980   \n",
       "4                                      Caddyshack      R     Comedy  1980   \n",
       "\n",
       "                        released  score    votes         director  \\\n",
       "0  June 13, 1980 (United States)    8.4   927000  Stanley Kubrick   \n",
       "1   July 2, 1980 (United States)    5.8    65000   Randal Kleiser   \n",
       "2  June 20, 1980 (United States)    8.7  1200000   Irvin Kershner   \n",
       "3   July 2, 1980 (United States)    7.7   221000     Jim Abrahams   \n",
       "4  July 25, 1980 (United States)    7.3   108000     Harold Ramis   \n",
       "\n",
       "                    writer            star         country    budget  \\\n",
       "0             Stephen King  Jack Nicholson  United Kingdom  19000000   \n",
       "1  Henry De Vere Stacpoole  Brooke Shields   United States   4500000   \n",
       "2           Leigh Brackett     Mark Hamill   United States  18000000   \n",
       "3             Jim Abrahams     Robert Hays   United States   3500000   \n",
       "4       Brian Doyle-Murray     Chevy Chase   United States   6000000   \n",
       "\n",
       "       gross             company  runtime released_year  \n",
       "0   46998772        Warner Bros.      146          1980  \n",
       "1   58853106   Columbia Pictures      104         1980   \n",
       "2  538375067           Lucasfilm      124          1980  \n",
       "3   83453539  Paramount Pictures       88         1980   \n",
       "4   39846344      Orion Pictures       98          1980  "
      ]
     },
     "execution_count": 45,
     "metadata": {},
     "output_type": "execute_result"
    }
   ],
   "source": [
    "df.head()"
   ]
  },
  {
   "cell_type": "code",
   "execution_count": 47,
   "id": "82c1449b",
   "metadata": {},
   "outputs": [
    {
     "data": {
      "text/html": [
       "<div>\n",
       "<style scoped>\n",
       "    .dataframe tbody tr th:only-of-type {\n",
       "        vertical-align: middle;\n",
       "    }\n",
       "\n",
       "    .dataframe tbody tr th {\n",
       "        vertical-align: top;\n",
       "    }\n",
       "\n",
       "    .dataframe thead th {\n",
       "        text-align: right;\n",
       "    }\n",
       "</style>\n",
       "<table border=\"1\" class=\"dataframe\">\n",
       "  <thead>\n",
       "    <tr style=\"text-align: right;\">\n",
       "      <th></th>\n",
       "      <th>name</th>\n",
       "      <th>rating</th>\n",
       "      <th>genre</th>\n",
       "      <th>year</th>\n",
       "      <th>released</th>\n",
       "      <th>score</th>\n",
       "      <th>votes</th>\n",
       "      <th>director</th>\n",
       "      <th>writer</th>\n",
       "      <th>star</th>\n",
       "      <th>country</th>\n",
       "      <th>budget</th>\n",
       "      <th>gross</th>\n",
       "      <th>company</th>\n",
       "      <th>runtime</th>\n",
       "      <th>released_year</th>\n",
       "    </tr>\n",
       "  </thead>\n",
       "  <tbody>\n",
       "    <tr>\n",
       "      <th>0</th>\n",
       "      <td>The Shining</td>\n",
       "      <td>R</td>\n",
       "      <td>Drama</td>\n",
       "      <td>1980</td>\n",
       "      <td>June 13, 1980 (United States)</td>\n",
       "      <td>8.400000</td>\n",
       "      <td>927000</td>\n",
       "      <td>Stanley Kubrick</td>\n",
       "      <td>Stephen King</td>\n",
       "      <td>Jack Nicholson</td>\n",
       "      <td>United Kingdom</td>\n",
       "      <td>19000000</td>\n",
       "      <td>46998772</td>\n",
       "      <td>Warner Bros.</td>\n",
       "      <td>146</td>\n",
       "      <td>1980</td>\n",
       "    </tr>\n",
       "    <tr>\n",
       "      <th>1</th>\n",
       "      <td>The Blue Lagoon</td>\n",
       "      <td>R</td>\n",
       "      <td>Adventure</td>\n",
       "      <td>1980</td>\n",
       "      <td>July 2, 1980 (United States)</td>\n",
       "      <td>5.800000</td>\n",
       "      <td>65000</td>\n",
       "      <td>Randal Kleiser</td>\n",
       "      <td>Henry De Vere Stacpoole</td>\n",
       "      <td>Brooke Shields</td>\n",
       "      <td>United States</td>\n",
       "      <td>4500000</td>\n",
       "      <td>58853106</td>\n",
       "      <td>Columbia Pictures</td>\n",
       "      <td>104</td>\n",
       "      <td>1980</td>\n",
       "    </tr>\n",
       "    <tr>\n",
       "      <th>2</th>\n",
       "      <td>Star Wars: Episode V - The Empire Strikes Back</td>\n",
       "      <td>PG</td>\n",
       "      <td>Action</td>\n",
       "      <td>1980</td>\n",
       "      <td>June 20, 1980 (United States)</td>\n",
       "      <td>8.700000</td>\n",
       "      <td>1200000</td>\n",
       "      <td>Irvin Kershner</td>\n",
       "      <td>Leigh Brackett</td>\n",
       "      <td>Mark Hamill</td>\n",
       "      <td>United States</td>\n",
       "      <td>18000000</td>\n",
       "      <td>538375067</td>\n",
       "      <td>Lucasfilm</td>\n",
       "      <td>124</td>\n",
       "      <td>1980</td>\n",
       "    </tr>\n",
       "    <tr>\n",
       "      <th>3</th>\n",
       "      <td>Airplane!</td>\n",
       "      <td>PG</td>\n",
       "      <td>Comedy</td>\n",
       "      <td>1980</td>\n",
       "      <td>July 2, 1980 (United States)</td>\n",
       "      <td>7.700000</td>\n",
       "      <td>221000</td>\n",
       "      <td>Jim Abrahams</td>\n",
       "      <td>Jim Abrahams</td>\n",
       "      <td>Robert Hays</td>\n",
       "      <td>United States</td>\n",
       "      <td>3500000</td>\n",
       "      <td>83453539</td>\n",
       "      <td>Paramount Pictures</td>\n",
       "      <td>88</td>\n",
       "      <td>1980</td>\n",
       "    </tr>\n",
       "    <tr>\n",
       "      <th>4</th>\n",
       "      <td>Caddyshack</td>\n",
       "      <td>R</td>\n",
       "      <td>Comedy</td>\n",
       "      <td>1980</td>\n",
       "      <td>July 25, 1980 (United States)</td>\n",
       "      <td>7.300000</td>\n",
       "      <td>108000</td>\n",
       "      <td>Harold Ramis</td>\n",
       "      <td>Brian Doyle-Murray</td>\n",
       "      <td>Chevy Chase</td>\n",
       "      <td>United States</td>\n",
       "      <td>6000000</td>\n",
       "      <td>39846344</td>\n",
       "      <td>Orion Pictures</td>\n",
       "      <td>98</td>\n",
       "      <td>1980</td>\n",
       "    </tr>\n",
       "    <tr>\n",
       "      <th>...</th>\n",
       "      <td>...</td>\n",
       "      <td>...</td>\n",
       "      <td>...</td>\n",
       "      <td>...</td>\n",
       "      <td>...</td>\n",
       "      <td>...</td>\n",
       "      <td>...</td>\n",
       "      <td>...</td>\n",
       "      <td>...</td>\n",
       "      <td>...</td>\n",
       "      <td>...</td>\n",
       "      <td>...</td>\n",
       "      <td>...</td>\n",
       "      <td>...</td>\n",
       "      <td>...</td>\n",
       "      <td>...</td>\n",
       "    </tr>\n",
       "    <tr>\n",
       "      <th>7663</th>\n",
       "      <td>More to Life</td>\n",
       "      <td>R</td>\n",
       "      <td>Drama</td>\n",
       "      <td>2020</td>\n",
       "      <td>October 23, 2020 (United States)</td>\n",
       "      <td>3.100000</td>\n",
       "      <td>18</td>\n",
       "      <td>Joseph Ebanks</td>\n",
       "      <td>Joseph Ebanks</td>\n",
       "      <td>Shannon Bond</td>\n",
       "      <td>United States</td>\n",
       "      <td>7000</td>\n",
       "      <td>78500541</td>\n",
       "      <td>Universal Pictures</td>\n",
       "      <td>90</td>\n",
       "      <td>23, 2</td>\n",
       "    </tr>\n",
       "    <tr>\n",
       "      <th>7664</th>\n",
       "      <td>Dream Round</td>\n",
       "      <td>R</td>\n",
       "      <td>Comedy</td>\n",
       "      <td>2020</td>\n",
       "      <td>February 7, 2020 (United States)</td>\n",
       "      <td>4.700000</td>\n",
       "      <td>36</td>\n",
       "      <td>Dusty Dukatz</td>\n",
       "      <td>Lisa Huston</td>\n",
       "      <td>Michael Saquella</td>\n",
       "      <td>United States</td>\n",
       "      <td>35589876</td>\n",
       "      <td>78500541</td>\n",
       "      <td>Cactus Blue Entertainment</td>\n",
       "      <td>90</td>\n",
       "      <td>7, 2</td>\n",
       "    </tr>\n",
       "    <tr>\n",
       "      <th>7665</th>\n",
       "      <td>Saving Mbango</td>\n",
       "      <td>R</td>\n",
       "      <td>Drama</td>\n",
       "      <td>2020</td>\n",
       "      <td>April 27, 2020 (Cameroon)</td>\n",
       "      <td>5.700000</td>\n",
       "      <td>29</td>\n",
       "      <td>Nkanya Nkwai</td>\n",
       "      <td>Lynno Lovert</td>\n",
       "      <td>Onyama Laura</td>\n",
       "      <td>United States</td>\n",
       "      <td>58750</td>\n",
       "      <td>78500541</td>\n",
       "      <td>Embi Productions</td>\n",
       "      <td>107</td>\n",
       "      <td>, 202</td>\n",
       "    </tr>\n",
       "    <tr>\n",
       "      <th>7666</th>\n",
       "      <td>It's Just Us</td>\n",
       "      <td>R</td>\n",
       "      <td>Drama</td>\n",
       "      <td>2020</td>\n",
       "      <td>October 1, 2020 (United States)</td>\n",
       "      <td>6.390411</td>\n",
       "      <td>88108</td>\n",
       "      <td>James Randall</td>\n",
       "      <td>James Randall</td>\n",
       "      <td>Christina Roz</td>\n",
       "      <td>United States</td>\n",
       "      <td>15000</td>\n",
       "      <td>78500541</td>\n",
       "      <td>Universal Pictures</td>\n",
       "      <td>120</td>\n",
       "      <td>1, 20</td>\n",
       "    </tr>\n",
       "    <tr>\n",
       "      <th>7667</th>\n",
       "      <td>Tee em el</td>\n",
       "      <td>R</td>\n",
       "      <td>Horror</td>\n",
       "      <td>2020</td>\n",
       "      <td>August 19, 2020 (United States)</td>\n",
       "      <td>5.700000</td>\n",
       "      <td>7</td>\n",
       "      <td>Pereko Mosia</td>\n",
       "      <td>Pereko Mosia</td>\n",
       "      <td>Siyabonga Mabaso</td>\n",
       "      <td>South Africa</td>\n",
       "      <td>35589876</td>\n",
       "      <td>78500541</td>\n",
       "      <td>PK 65 Films</td>\n",
       "      <td>102</td>\n",
       "      <td>9, 20</td>\n",
       "    </tr>\n",
       "  </tbody>\n",
       "</table>\n",
       "<p>7668 rows × 16 columns</p>\n",
       "</div>"
      ],
      "text/plain": [
       "                                                name rating      genre  year  \\\n",
       "0                                        The Shining      R      Drama  1980   \n",
       "1                                    The Blue Lagoon      R  Adventure  1980   \n",
       "2     Star Wars: Episode V - The Empire Strikes Back     PG     Action  1980   \n",
       "3                                          Airplane!     PG     Comedy  1980   \n",
       "4                                         Caddyshack      R     Comedy  1980   \n",
       "...                                              ...    ...        ...   ...   \n",
       "7663                                    More to Life      R      Drama  2020   \n",
       "7664                                     Dream Round      R     Comedy  2020   \n",
       "7665                                   Saving Mbango      R      Drama  2020   \n",
       "7666                                    It's Just Us      R      Drama  2020   \n",
       "7667                                       Tee em el      R     Horror  2020   \n",
       "\n",
       "                              released     score    votes         director  \\\n",
       "0        June 13, 1980 (United States)  8.400000   927000  Stanley Kubrick   \n",
       "1         July 2, 1980 (United States)  5.800000    65000   Randal Kleiser   \n",
       "2        June 20, 1980 (United States)  8.700000  1200000   Irvin Kershner   \n",
       "3         July 2, 1980 (United States)  7.700000   221000     Jim Abrahams   \n",
       "4        July 25, 1980 (United States)  7.300000   108000     Harold Ramis   \n",
       "...                                ...       ...      ...              ...   \n",
       "7663  October 23, 2020 (United States)  3.100000       18    Joseph Ebanks   \n",
       "7664  February 7, 2020 (United States)  4.700000       36     Dusty Dukatz   \n",
       "7665         April 27, 2020 (Cameroon)  5.700000       29     Nkanya Nkwai   \n",
       "7666   October 1, 2020 (United States)  6.390411    88108    James Randall   \n",
       "7667   August 19, 2020 (United States)  5.700000        7     Pereko Mosia   \n",
       "\n",
       "                       writer              star         country    budget  \\\n",
       "0                Stephen King    Jack Nicholson  United Kingdom  19000000   \n",
       "1     Henry De Vere Stacpoole    Brooke Shields   United States   4500000   \n",
       "2              Leigh Brackett       Mark Hamill   United States  18000000   \n",
       "3                Jim Abrahams       Robert Hays   United States   3500000   \n",
       "4          Brian Doyle-Murray       Chevy Chase   United States   6000000   \n",
       "...                       ...               ...             ...       ...   \n",
       "7663            Joseph Ebanks      Shannon Bond   United States      7000   \n",
       "7664              Lisa Huston  Michael Saquella   United States  35589876   \n",
       "7665             Lynno Lovert      Onyama Laura   United States     58750   \n",
       "7666            James Randall     Christina Roz   United States     15000   \n",
       "7667             Pereko Mosia  Siyabonga Mabaso    South Africa  35589876   \n",
       "\n",
       "          gross                    company  runtime released_year  \n",
       "0      46998772               Warner Bros.      146          1980  \n",
       "1      58853106          Columbia Pictures      104         1980   \n",
       "2     538375067                  Lucasfilm      124          1980  \n",
       "3      83453539         Paramount Pictures       88         1980   \n",
       "4      39846344             Orion Pictures       98          1980  \n",
       "...         ...                        ...      ...           ...  \n",
       "7663   78500541         Universal Pictures       90         23, 2  \n",
       "7664   78500541  Cactus Blue Entertainment       90          7, 2  \n",
       "7665   78500541           Embi Productions      107         , 202  \n",
       "7666   78500541         Universal Pictures      120         1, 20  \n",
       "7667   78500541                PK 65 Films      102         9, 20  \n",
       "\n",
       "[7668 rows x 16 columns]"
      ]
     },
     "execution_count": 47,
     "metadata": {},
     "output_type": "execute_result"
    }
   ],
   "source": [
    "#dropping duplicates\n",
    "df.drop_duplicates()"
   ]
  },
  {
   "cell_type": "code",
   "execution_count": 62,
   "id": "7d3116a1",
   "metadata": {},
   "outputs": [
    {
     "data": {
      "text/plain": [
       "Text(0.5, 1.0, 'budget vs gross')"
      ]
     },
     "execution_count": 62,
     "metadata": {},
     "output_type": "execute_result"
    },
    {
     "data": {
      "image/png": "[encoded data removed]",
      "text/plain": [
       "<Figure size 864x576 with 1 Axes>"
      ]
     },
     "metadata": {
      "needs_background": "light"
     },
     "output_type": "display_data"
    }
   ],
   "source": [
    "#finding relationship between budget and gross\n",
    "plt.figure(figsize=(12,8))\n",
    "plt.scatter(x=df['budget'],y=df['gross'],color='red')\n",
    "plt.xlabel('budget',color='red')\n",
    "plt.ylabel('gross',color='blue')\n",
    "plt.title('budget vs gross')\n",
    "#plt.xlim(0,5)\n",
    "#plt.ylim(0,9)\n"
   ]
  },
  {
   "cell_type": "code",
   "execution_count": 55,
   "id": "8b21c6d5",
   "metadata": {},
   "outputs": [
    {
     "data": {
      "text/plain": [
       "<AxesSubplot:xlabel='budget', ylabel='gross'>"
      ]
     },
     "execution_count": 55,
     "metadata": {},
     "output_type": "execute_result"
    },
    {
     "data": {
      "image/png": "[encoded data removed]",
      "text/plain": [
       "<Figure size 432x288 with 1 Axes>"
      ]
     },
     "metadata": {
      "needs_background": "light"
     },
     "output_type": "display_data"
    }
   ],
   "source": [
    "sns.regplot(x='budget',y='gross',data=df,scatter_kws={'color':'red'},line_kws={'color':'blue'})"
   ]
  },
  {
   "cell_type": "code",
   "execution_count": 63,
   "id": "53a2f9ee",
   "metadata": {},
   "outputs": [
    {
     "data": {
      "text/html": [
       "<div>\n",
       "<style scoped>\n",
       "    .dataframe tbody tr th:only-of-type {\n",
       "        vertical-align: middle;\n",
       "    }\n",
       "\n",
       "    .dataframe tbody tr th {\n",
       "        vertical-align: top;\n",
       "    }\n",
       "\n",
       "    .dataframe thead th {\n",
       "        text-align: right;\n",
       "    }\n",
       "</style>\n",
       "<table border=\"1\" class=\"dataframe\">\n",
       "  <thead>\n",
       "    <tr style=\"text-align: right;\">\n",
       "      <th></th>\n",
       "      <th>year</th>\n",
       "      <th>score</th>\n",
       "      <th>votes</th>\n",
       "      <th>budget</th>\n",
       "      <th>gross</th>\n",
       "      <th>runtime</th>\n",
       "    </tr>\n",
       "  </thead>\n",
       "  <tbody>\n",
       "    <tr>\n",
       "      <th>year</th>\n",
       "      <td>1.000000</td>\n",
       "      <td>0.097936</td>\n",
       "      <td>0.222810</td>\n",
       "      <td>0.265578</td>\n",
       "      <td>0.252042</td>\n",
       "      <td>0.120758</td>\n",
       "    </tr>\n",
       "    <tr>\n",
       "      <th>score</th>\n",
       "      <td>0.097936</td>\n",
       "      <td>1.000000</td>\n",
       "      <td>0.409182</td>\n",
       "      <td>0.064541</td>\n",
       "      <td>0.182868</td>\n",
       "      <td>0.399335</td>\n",
       "    </tr>\n",
       "    <tr>\n",
       "      <th>votes</th>\n",
       "      <td>0.222810</td>\n",
       "      <td>0.409182</td>\n",
       "      <td>1.000000</td>\n",
       "      <td>0.421007</td>\n",
       "      <td>0.628713</td>\n",
       "      <td>0.309168</td>\n",
       "    </tr>\n",
       "    <tr>\n",
       "      <th>budget</th>\n",
       "      <td>0.265578</td>\n",
       "      <td>0.064541</td>\n",
       "      <td>0.421007</td>\n",
       "      <td>1.000000</td>\n",
       "      <td>0.711270</td>\n",
       "      <td>0.265289</td>\n",
       "    </tr>\n",
       "    <tr>\n",
       "      <th>gross</th>\n",
       "      <td>0.252042</td>\n",
       "      <td>0.182868</td>\n",
       "      <td>0.628713</td>\n",
       "      <td>0.711270</td>\n",
       "      <td>1.000000</td>\n",
       "      <td>0.241336</td>\n",
       "    </tr>\n",
       "    <tr>\n",
       "      <th>runtime</th>\n",
       "      <td>0.120758</td>\n",
       "      <td>0.399335</td>\n",
       "      <td>0.309168</td>\n",
       "      <td>0.265289</td>\n",
       "      <td>0.241336</td>\n",
       "      <td>1.000000</td>\n",
       "    </tr>\n",
       "  </tbody>\n",
       "</table>\n",
       "</div>"
      ],
      "text/plain": [
       "             year     score     votes    budget     gross   runtime\n",
       "year     1.000000  0.097936  0.222810  0.265578  0.252042  0.120758\n",
       "score    0.097936  1.000000  0.409182  0.064541  0.182868  0.399335\n",
       "votes    0.222810  0.409182  1.000000  0.421007  0.628713  0.309168\n",
       "budget   0.265578  0.064541  0.421007  1.000000  0.711270  0.265289\n",
       "gross    0.252042  0.182868  0.628713  0.711270  1.000000  0.241336\n",
       "runtime  0.120758  0.399335  0.309168  0.265289  0.241336  1.000000"
      ]
     },
     "execution_count": 63,
     "metadata": {},
     "output_type": "execute_result"
    }
   ],
   "source": [
    "df.corr()"
   ]
  },
  {
   "cell_type": "code",
   "execution_count": 68,
   "id": "60ef9f94",
   "metadata": {},
   "outputs": [
    {
     "data": {
      "text/plain": [
       "Text(0.5, 1.0, 'correlation matrix')"
      ]
     },
     "execution_count": 68,
     "metadata": {},
     "output_type": "execute_result"
    },
    {
     "data": {
      "image/png": "[encoded data removed]",
      "text/plain": [
       "<Figure size 576x432 with 2 Axes>"
      ]
     },
     "metadata": {
      "needs_background": "light"
     },
     "output_type": "display_data"
    }
   ],
   "source": [
    "#checking for highly correlated variables\n",
    "plt.figure(figsize=(8,6))\n",
    "sns.heatmap(df.corr(),annot=True)\n",
    "plt.xlabel('movie features')\n",
    "plt.ylabel('movie feature')\n",
    "plt.title('correlation matrix')"
   ]
  },
  {
   "cell_type": "code",
   "execution_count": 71,
   "id": "ac015961",
   "metadata": {},
   "outputs": [
    {
     "data": {
      "text/html": [
       "<div>\n",
       "<style scoped>\n",
       "    .dataframe tbody tr th:only-of-type {\n",
       "        vertical-align: middle;\n",
       "    }\n",
       "\n",
       "    .dataframe tbody tr th {\n",
       "        vertical-align: top;\n",
       "    }\n",
       "\n",
       "    .dataframe thead th {\n",
       "        text-align: right;\n",
       "    }\n",
       "</style>\n",
       "<table border=\"1\" class=\"dataframe\">\n",
       "  <thead>\n",
       "    <tr style=\"text-align: right;\">\n",
       "      <th></th>\n",
       "      <th>name</th>\n",
       "      <th>rating</th>\n",
       "      <th>genre</th>\n",
       "      <th>year</th>\n",
       "      <th>released</th>\n",
       "      <th>score</th>\n",
       "      <th>votes</th>\n",
       "      <th>director</th>\n",
       "      <th>writer</th>\n",
       "      <th>star</th>\n",
       "      <th>country</th>\n",
       "      <th>budget</th>\n",
       "      <th>gross</th>\n",
       "      <th>company</th>\n",
       "      <th>runtime</th>\n",
       "      <th>released_year</th>\n",
       "    </tr>\n",
       "  </thead>\n",
       "  <tbody>\n",
       "    <tr>\n",
       "      <th>0</th>\n",
       "      <td>6587</td>\n",
       "      <td>6</td>\n",
       "      <td>6</td>\n",
       "      <td>1980</td>\n",
       "      <td>1705</td>\n",
       "      <td>8.400000</td>\n",
       "      <td>927000</td>\n",
       "      <td>2589</td>\n",
       "      <td>4014</td>\n",
       "      <td>1047</td>\n",
       "      <td>54</td>\n",
       "      <td>19000000</td>\n",
       "      <td>46998772</td>\n",
       "      <td>2319</td>\n",
       "      <td>146</td>\n",
       "      <td>13</td>\n",
       "    </tr>\n",
       "    <tr>\n",
       "      <th>1</th>\n",
       "      <td>5573</td>\n",
       "      <td>6</td>\n",
       "      <td>1</td>\n",
       "      <td>1980</td>\n",
       "      <td>1492</td>\n",
       "      <td>5.800000</td>\n",
       "      <td>65000</td>\n",
       "      <td>2269</td>\n",
       "      <td>1632</td>\n",
       "      <td>327</td>\n",
       "      <td>55</td>\n",
       "      <td>4500000</td>\n",
       "      <td>58853106</td>\n",
       "      <td>731</td>\n",
       "      <td>104</td>\n",
       "      <td>133</td>\n",
       "    </tr>\n",
       "    <tr>\n",
       "      <th>2</th>\n",
       "      <td>5142</td>\n",
       "      <td>4</td>\n",
       "      <td>0</td>\n",
       "      <td>1980</td>\n",
       "      <td>1771</td>\n",
       "      <td>8.700000</td>\n",
       "      <td>1200000</td>\n",
       "      <td>1111</td>\n",
       "      <td>2567</td>\n",
       "      <td>1745</td>\n",
       "      <td>55</td>\n",
       "      <td>18000000</td>\n",
       "      <td>538375067</td>\n",
       "      <td>1540</td>\n",
       "      <td>124</td>\n",
       "      <td>13</td>\n",
       "    </tr>\n",
       "    <tr>\n",
       "      <th>3</th>\n",
       "      <td>286</td>\n",
       "      <td>4</td>\n",
       "      <td>4</td>\n",
       "      <td>1980</td>\n",
       "      <td>1492</td>\n",
       "      <td>7.700000</td>\n",
       "      <td>221000</td>\n",
       "      <td>1301</td>\n",
       "      <td>2000</td>\n",
       "      <td>2246</td>\n",
       "      <td>55</td>\n",
       "      <td>3500000</td>\n",
       "      <td>83453539</td>\n",
       "      <td>1812</td>\n",
       "      <td>88</td>\n",
       "      <td>133</td>\n",
       "    </tr>\n",
       "    <tr>\n",
       "      <th>4</th>\n",
       "      <td>1027</td>\n",
       "      <td>6</td>\n",
       "      <td>4</td>\n",
       "      <td>1980</td>\n",
       "      <td>1543</td>\n",
       "      <td>7.300000</td>\n",
       "      <td>108000</td>\n",
       "      <td>1054</td>\n",
       "      <td>521</td>\n",
       "      <td>410</td>\n",
       "      <td>55</td>\n",
       "      <td>6000000</td>\n",
       "      <td>39846344</td>\n",
       "      <td>1777</td>\n",
       "      <td>98</td>\n",
       "      <td>13</td>\n",
       "    </tr>\n",
       "    <tr>\n",
       "      <th>...</th>\n",
       "      <td>...</td>\n",
       "      <td>...</td>\n",
       "      <td>...</td>\n",
       "      <td>...</td>\n",
       "      <td>...</td>\n",
       "      <td>...</td>\n",
       "      <td>...</td>\n",
       "      <td>...</td>\n",
       "      <td>...</td>\n",
       "      <td>...</td>\n",
       "      <td>...</td>\n",
       "      <td>...</td>\n",
       "      <td>...</td>\n",
       "      <td>...</td>\n",
       "      <td>...</td>\n",
       "      <td>...</td>\n",
       "    </tr>\n",
       "    <tr>\n",
       "      <th>7663</th>\n",
       "      <td>3705</td>\n",
       "      <td>6</td>\n",
       "      <td>6</td>\n",
       "      <td>2020</td>\n",
       "      <td>2964</td>\n",
       "      <td>3.100000</td>\n",
       "      <td>18</td>\n",
       "      <td>1500</td>\n",
       "      <td>2289</td>\n",
       "      <td>2421</td>\n",
       "      <td>55</td>\n",
       "      <td>7000</td>\n",
       "      <td>78500541</td>\n",
       "      <td>2281</td>\n",
       "      <td>90</td>\n",
       "      <td>184</td>\n",
       "    </tr>\n",
       "    <tr>\n",
       "      <th>7664</th>\n",
       "      <td>1678</td>\n",
       "      <td>6</td>\n",
       "      <td>4</td>\n",
       "      <td>2020</td>\n",
       "      <td>1107</td>\n",
       "      <td>4.700000</td>\n",
       "      <td>36</td>\n",
       "      <td>774</td>\n",
       "      <td>2614</td>\n",
       "      <td>1886</td>\n",
       "      <td>55</td>\n",
       "      <td>35589876</td>\n",
       "      <td>78500541</td>\n",
       "      <td>539</td>\n",
       "      <td>90</td>\n",
       "      <td>77</td>\n",
       "    </tr>\n",
       "    <tr>\n",
       "      <th>7665</th>\n",
       "      <td>4717</td>\n",
       "      <td>6</td>\n",
       "      <td>6</td>\n",
       "      <td>2020</td>\n",
       "      <td>193</td>\n",
       "      <td>5.700000</td>\n",
       "      <td>29</td>\n",
       "      <td>2061</td>\n",
       "      <td>2683</td>\n",
       "      <td>2040</td>\n",
       "      <td>55</td>\n",
       "      <td>58750</td>\n",
       "      <td>78500541</td>\n",
       "      <td>941</td>\n",
       "      <td>107</td>\n",
       "      <td>86</td>\n",
       "    </tr>\n",
       "    <tr>\n",
       "      <th>7666</th>\n",
       "      <td>2843</td>\n",
       "      <td>6</td>\n",
       "      <td>6</td>\n",
       "      <td>2020</td>\n",
       "      <td>2817</td>\n",
       "      <td>6.390411</td>\n",
       "      <td>88108</td>\n",
       "      <td>1184</td>\n",
       "      <td>1824</td>\n",
       "      <td>450</td>\n",
       "      <td>55</td>\n",
       "      <td>15000</td>\n",
       "      <td>78500541</td>\n",
       "      <td>2281</td>\n",
       "      <td>120</td>\n",
       "      <td>112</td>\n",
       "    </tr>\n",
       "    <tr>\n",
       "      <th>7667</th>\n",
       "      <td>5394</td>\n",
       "      <td>6</td>\n",
       "      <td>10</td>\n",
       "      <td>2020</td>\n",
       "      <td>391</td>\n",
       "      <td>5.700000</td>\n",
       "      <td>7</td>\n",
       "      <td>2165</td>\n",
       "      <td>3344</td>\n",
       "      <td>2463</td>\n",
       "      <td>44</td>\n",
       "      <td>35589876</td>\n",
       "      <td>78500541</td>\n",
       "      <td>1787</td>\n",
       "      <td>102</td>\n",
       "      <td>219</td>\n",
       "    </tr>\n",
       "  </tbody>\n",
       "</table>\n",
       "<p>7668 rows × 16 columns</p>\n",
       "</div>"
      ],
      "text/plain": [
       "      name  rating  genre  year  released     score    votes  director  \\\n",
       "0     6587       6      6  1980      1705  8.400000   927000      2589   \n",
       "1     5573       6      1  1980      1492  5.800000    65000      2269   \n",
       "2     5142       4      0  1980      1771  8.700000  1200000      1111   \n",
       "3      286       4      4  1980      1492  7.700000   221000      1301   \n",
       "4     1027       6      4  1980      1543  7.300000   108000      1054   \n",
       "...    ...     ...    ...   ...       ...       ...      ...       ...   \n",
       "7663  3705       6      6  2020      2964  3.100000       18      1500   \n",
       "7664  1678       6      4  2020      1107  4.700000       36       774   \n",
       "7665  4717       6      6  2020       193  5.700000       29      2061   \n",
       "7666  2843       6      6  2020      2817  6.390411    88108      1184   \n",
       "7667  5394       6     10  2020       391  5.700000        7      2165   \n",
       "\n",
       "      writer  star  country    budget      gross  company  runtime  \\\n",
       "0       4014  1047       54  19000000   46998772     2319      146   \n",
       "1       1632   327       55   4500000   58853106      731      104   \n",
       "2       2567  1745       55  18000000  538375067     1540      124   \n",
       "3       2000  2246       55   3500000   83453539     1812       88   \n",
       "4        521   410       55   6000000   39846344     1777       98   \n",
       "...      ...   ...      ...       ...        ...      ...      ...   \n",
       "7663    2289  2421       55      7000   78500541     2281       90   \n",
       "7664    2614  1886       55  35589876   78500541      539       90   \n",
       "7665    2683  2040       55     58750   78500541      941      107   \n",
       "7666    1824   450       55     15000   78500541     2281      120   \n",
       "7667    3344  2463       44  35589876   78500541     1787      102   \n",
       "\n",
       "      released_year  \n",
       "0                13  \n",
       "1               133  \n",
       "2                13  \n",
       "3               133  \n",
       "4                13  \n",
       "...             ...  \n",
       "7663            184  \n",
       "7664             77  \n",
       "7665             86  \n",
       "7666            112  \n",
       "7667            219  \n",
       "\n",
       "[7668 rows x 16 columns]"
      ]
     },
     "execution_count": 71,
     "metadata": {},
     "output_type": "execute_result"
    }
   ],
   "source": [
    "#converting object data type to categorical\n",
    "df_numarised=df\n",
    "for col in df_numarised.columns:\n",
    "    if(df_numarised[col].dtype=='object'):\n",
    "        df_numarised[col]=df_numarised[col].astype('category')\n",
    "        df_numarised[col]=df_numarised[col].cat.codes\n",
    "df_numarised       \n",
    "    "
   ]
  },
  {
   "cell_type": "code",
   "execution_count": 74,
   "id": "46010f0a",
   "metadata": {},
   "outputs": [
    {
     "data": {
      "text/plain": [
       "Text(0.5, 1.0, 'correlation matrix')"
      ]
     },
     "execution_count": 74,
     "metadata": {},
     "output_type": "execute_result"
    },
    {
     "data": {
      "image/png": "[encoded data removed]",
      "text/plain": [
       "<Figure size 1080x720 with 2 Axes>"
      ]
     },
     "metadata": {
      "needs_background": "light"
     },
     "output_type": "display_data"
    }
   ],
   "source": [
    "plt.figure(figsize=(15,10))\n",
    "sns.heatmap(df_numarised.corr(),annot=True)\n",
    "plt.xlabel('movie features')\n",
    "plt.ylabel('movie feature')\n",
    "plt.title('correlation matrix')"
   ]
  },
  {
   "cell_type": "code",
   "execution_count": 77,
   "id": "99d680bb",
   "metadata": {},
   "outputs": [
    {
     "data": {
      "text/plain": [
       "name           name             1.000000\n",
       "               rating          -0.012441\n",
       "               genre            0.016355\n",
       "               year             0.011453\n",
       "               released        -0.010753\n",
       "                                  ...   \n",
       "released_year  budget          -0.091901\n",
       "               gross           -0.102058\n",
       "               company         -0.038238\n",
       "               runtime         -0.035471\n",
       "               released_year    1.000000\n",
       "Length: 256, dtype: float64"
      ]
     },
     "execution_count": 77,
     "metadata": {},
     "output_type": "execute_result"
    }
   ],
   "source": [
    "corr=df_numarised.corr()\n",
    "corr_pair=corr.unstack()\n",
    "corr_pair\n"
   ]
  },
  {
   "cell_type": "code",
   "execution_count": 76,
   "id": "51c781ea",
   "metadata": {},
   "outputs": [
    {
     "data": {
      "text/plain": [
       "name           name             1.000000\n",
       "               rating          -0.012441\n",
       "               genre            0.016355\n",
       "               year             0.011453\n",
       "               released        -0.010753\n",
       "                                  ...   \n",
       "released_year  budget          -0.091901\n",
       "               gross           -0.102058\n",
       "               company         -0.038238\n",
       "               runtime         -0.035471\n",
       "               released_year    1.000000\n",
       "Length: 256, dtype: float64"
      ]
     },
     "execution_count": 76,
     "metadata": {},
     "output_type": "execute_result"
    }
   ],
   "source": [
    "corr_pair"
   ]
  },
  {
   "cell_type": "code",
   "execution_count": 79,
   "id": "592a0b34",
   "metadata": {},
   "outputs": [
    {
     "data": {
      "text/plain": [
       "budget         genre           -0.310566\n",
       "genre          budget          -0.310566\n",
       "               gross           -0.230267\n",
       "gross          genre           -0.230267\n",
       "rating         budget          -0.156544\n",
       "                                  ...   \n",
       "year           year             1.000000\n",
       "genre          genre            1.000000\n",
       "rating         rating           1.000000\n",
       "runtime        runtime          1.000000\n",
       "released_year  released_year    1.000000\n",
       "Length: 256, dtype: float64"
      ]
     },
     "execution_count": 79,
     "metadata": {},
     "output_type": "execute_result"
    }
   ],
   "source": [
    "sort_corr=corr_pair.sort_values()\n",
    "sort_corr"
   ]
  },
  {
   "cell_type": "code",
   "execution_count": 81,
   "id": "f7b9a42a",
   "metadata": {},
   "outputs": [
    {
     "data": {
      "text/plain": [
       "gross          votes            0.628713\n",
       "votes          gross            0.628713\n",
       "budget         gross            0.711270\n",
       "gross          budget           0.711270\n",
       "name           name             1.000000\n",
       "company        company          1.000000\n",
       "gross          gross            1.000000\n",
       "budget         budget           1.000000\n",
       "country        country          1.000000\n",
       "star           star             1.000000\n",
       "writer         writer           1.000000\n",
       "director       director         1.000000\n",
       "votes          votes            1.000000\n",
       "score          score            1.000000\n",
       "released       released         1.000000\n",
       "year           year             1.000000\n",
       "genre          genre            1.000000\n",
       "rating         rating           1.000000\n",
       "runtime        runtime          1.000000\n",
       "released_year  released_year    1.000000\n",
       "dtype: float64"
      ]
     },
     "execution_count": 81,
     "metadata": {},
     "output_type": "execute_result"
    }
   ],
   "source": [
    "#checking for highly correlated values\n",
    "high_corr=sort_corr[(sort_corr)>0.5]\n",
    "high_corr"
   ]
  },
  {
   "cell_type": "code",
   "execution_count": null,
   "id": "7d4475f3",
   "metadata": {},
   "outputs": [],
   "source": []
  }
 ],
 "metadata": {
  "kernelspec": {
   "display_name": "Python 3",
   "language": "python",
   "name": "python3"
  },
  "language_info": {
   "codemirror_mode": {
    "name": "ipython",
    "version": 3
   },
   "file_extension": ".py",
   "mimetype": "text/x-python",
   "name": "python",
   "nbconvert_exporter": "python",
   "pygments_lexer": "ipython3",
   "version": "3.8.8"
  }
 },
 "nbformat": 4,
 "nbformat_minor": 5
}
